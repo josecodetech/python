{
  "nbformat": 4,
  "nbformat_minor": 0,
  "metadata": {
    "colab": {
      "name": "OperacionesCadenasTextos.ipynb",
      "provenance": [],
      "collapsed_sections": []
    },
    "kernelspec": {
      "name": "python3",
      "display_name": "Python 3"
    },
    "language_info": {
      "name": "python"
    }
  },
  "cells": [
    {
      "cell_type": "markdown",
      "metadata": {
        "id": "_CtN2DB_tjqF"
      },
      "source": [
        "Convertir a minusculas\n"
      ]
    },
    {
      "cell_type": "code",
      "metadata": {
        "id": "FUp-q9uytnKB"
      },
      "source": [
        "cadena = \"EjEmplO dE CaDENa de tExtoS\"\n"
      ],
      "execution_count": 1,
      "outputs": []
    },
    {
      "cell_type": "code",
      "metadata": {
        "colab": {
          "base_uri": "https://localhost:8080/",
          "height": 35
        },
        "id": "_GlgpGkdtyLI",
        "outputId": "f3963c58-aab4-4018-b89d-9a600ee3137d"
      },
      "source": [
        "cadena.lower()"
      ],
      "execution_count": 2,
      "outputs": [
        {
          "output_type": "execute_result",
          "data": {
            "application/vnd.google.colaboratory.intrinsic+json": {
              "type": "string"
            },
            "text/plain": [
              "'ejemplo de cadena de textos'"
            ]
          },
          "metadata": {},
          "execution_count": 2
        }
      ]
    },
    {
      "cell_type": "markdown",
      "metadata": {
        "id": "dLkTCHkMuF6o"
      },
      "source": [
        "Convertir a mayusculas"
      ]
    },
    {
      "cell_type": "code",
      "metadata": {
        "colab": {
          "base_uri": "https://localhost:8080/",
          "height": 35
        },
        "id": "94TeLXeSuPzQ",
        "outputId": "64a318a3-6e36-497c-f64e-13fa87f9250d"
      },
      "source": [
        "cadena.upper()"
      ],
      "execution_count": 3,
      "outputs": [
        {
          "output_type": "execute_result",
          "data": {
            "application/vnd.google.colaboratory.intrinsic+json": {
              "type": "string"
            },
            "text/plain": [
              "'EJEMPLO DE CADENA DE TEXTOS'"
            ]
          },
          "metadata": {},
          "execution_count": 3
        }
      ]
    },
    {
      "cell_type": "markdown",
      "metadata": {
        "id": "7Ug6zMMduXzX"
      },
      "source": [
        "Capital"
      ]
    },
    {
      "cell_type": "code",
      "metadata": {
        "colab": {
          "base_uri": "https://localhost:8080/",
          "height": 35
        },
        "id": "-oGH-MMSua5_",
        "outputId": "e3454cd5-bfb2-4800-f77c-d7e898bc212e"
      },
      "source": [
        "cadena.capitalize()"
      ],
      "execution_count": 4,
      "outputs": [
        {
          "output_type": "execute_result",
          "data": {
            "application/vnd.google.colaboratory.intrinsic+json": {
              "type": "string"
            },
            "text/plain": [
              "'Ejemplo de cadena de textos'"
            ]
          },
          "metadata": {},
          "execution_count": 4
        }
      ]
    },
    {
      "cell_type": "markdown",
      "metadata": {
        "id": "R2UqZY1YuihJ"
      },
      "source": [
        "Titulo"
      ]
    },
    {
      "cell_type": "code",
      "metadata": {
        "colab": {
          "base_uri": "https://localhost:8080/",
          "height": 35
        },
        "id": "zr2f7Lg_umH4",
        "outputId": "ea504559-38d6-4aaf-d31f-4466b151c227"
      },
      "source": [
        "cadena.title()"
      ],
      "execution_count": 5,
      "outputs": [
        {
          "output_type": "execute_result",
          "data": {
            "application/vnd.google.colaboratory.intrinsic+json": {
              "type": "string"
            },
            "text/plain": [
              "'Ejemplo De Cadena De Textos'"
            ]
          },
          "metadata": {},
          "execution_count": 5
        }
      ]
    },
    {
      "cell_type": "markdown",
      "metadata": {
        "id": "Sq2Ej9mcusU5"
      },
      "source": [
        "Invierte"
      ]
    },
    {
      "cell_type": "code",
      "metadata": {
        "colab": {
          "base_uri": "https://localhost:8080/",
          "height": 35
        },
        "id": "FcS2jk-fuv7o",
        "outputId": "a4aa5f54-2c88-4cbc-ee43-1fb742ed6624"
      },
      "source": [
        "cadena.swapcase()"
      ],
      "execution_count": 6,
      "outputs": [
        {
          "output_type": "execute_result",
          "data": {
            "application/vnd.google.colaboratory.intrinsic+json": {
              "type": "string"
            },
            "text/plain": [
              "'eJeMPLo De cAdenA DE TeXTOs'"
            ]
          },
          "metadata": {},
          "execution_count": 6
        }
      ]
    },
    {
      "cell_type": "code",
      "metadata": {
        "colab": {
          "base_uri": "https://localhost:8080/",
          "height": 35
        },
        "id": "BfDW6J-5t22y",
        "outputId": "67ab703f-4a6f-4b7f-f6ab-d0311416b9b2"
      },
      "source": [
        "cadena"
      ],
      "execution_count": 7,
      "outputs": [
        {
          "output_type": "execute_result",
          "data": {
            "application/vnd.google.colaboratory.intrinsic+json": {
              "type": "string"
            },
            "text/plain": [
              "'EjEmplO dE CaDENa de tExtoS'"
            ]
          },
          "metadata": {},
          "execution_count": 7
        }
      ]
    },
    {
      "cell_type": "markdown",
      "metadata": {
        "id": "qfREfQPbvwC3"
      },
      "source": [
        "Mayusculas ?"
      ]
    },
    {
      "cell_type": "code",
      "metadata": {
        "colab": {
          "base_uri": "https://localhost:8080/"
        },
        "id": "cyNKTTeNvexW",
        "outputId": "dda73144-75bb-41e7-b94d-6bd0f5df3210"
      },
      "source": [
        "cadena.isupper()"
      ],
      "execution_count": 9,
      "outputs": [
        {
          "output_type": "execute_result",
          "data": {
            "text/plain": [
              "False"
            ]
          },
          "metadata": {},
          "execution_count": 9
        }
      ]
    },
    {
      "cell_type": "code",
      "metadata": {
        "colab": {
          "base_uri": "https://localhost:8080/"
        },
        "id": "2NUKXnY4v1AF",
        "outputId": "30d67bb9-7735-4218-d37d-bf9c58e0bb90"
      },
      "source": [
        "cadena = \"MAYUSCULAS\"\n",
        "cadena.isupper()"
      ],
      "execution_count": 10,
      "outputs": [
        {
          "output_type": "execute_result",
          "data": {
            "text/plain": [
              "True"
            ]
          },
          "metadata": {},
          "execution_count": 10
        }
      ]
    },
    {
      "cell_type": "markdown",
      "metadata": {
        "id": "R1JNT0Zvv_jf"
      },
      "source": [
        "Minusculas ?"
      ]
    },
    {
      "cell_type": "code",
      "metadata": {
        "colab": {
          "base_uri": "https://localhost:8080/"
        },
        "id": "z4IA5JIRv81K",
        "outputId": "6af5a77e-c23c-4d2a-e49a-df81f59eaa8b"
      },
      "source": [
        "cadena.islower()"
      ],
      "execution_count": 11,
      "outputs": [
        {
          "output_type": "execute_result",
          "data": {
            "text/plain": [
              "False"
            ]
          },
          "metadata": {},
          "execution_count": 11
        }
      ]
    },
    {
      "cell_type": "code",
      "metadata": {
        "colab": {
          "base_uri": "https://localhost:8080/"
        },
        "id": "KfKAMFcswEod",
        "outputId": "f98dd75d-b71c-408b-90ab-cf0c74430a64"
      },
      "source": [
        "cadena = \"minusculas\"\n",
        "cadena.islower()"
      ],
      "execution_count": 12,
      "outputs": [
        {
          "output_type": "execute_result",
          "data": {
            "text/plain": [
              "True"
            ]
          },
          "metadata": {},
          "execution_count": 12
        }
      ]
    },
    {
      "cell_type": "markdown",
      "metadata": {
        "id": "_l2cFetawSm3"
      },
      "source": [
        "Es numerica ?"
      ]
    },
    {
      "cell_type": "code",
      "metadata": {
        "colab": {
          "base_uri": "https://localhost:8080/"
        },
        "id": "2rWHgyQLwL83",
        "outputId": "45f19024-577f-4245-9044-78f522424f4b"
      },
      "source": [
        "cadena.isnumeric()"
      ],
      "execution_count": 13,
      "outputs": [
        {
          "output_type": "execute_result",
          "data": {
            "text/plain": [
              "False"
            ]
          },
          "metadata": {},
          "execution_count": 13
        }
      ]
    },
    {
      "cell_type": "code",
      "metadata": {
        "colab": {
          "base_uri": "https://localhost:8080/"
        },
        "id": "icWfS41fwXxW",
        "outputId": "94b08b2f-40f1-4aa4-a02e-bd5c62518de4"
      },
      "source": [
        "cadena = \"1234\"\n",
        "cadena.isnumeric()"
      ],
      "execution_count": 15,
      "outputs": [
        {
          "output_type": "execute_result",
          "data": {
            "text/plain": [
              "True"
            ]
          },
          "metadata": {},
          "execution_count": 15
        }
      ]
    },
    {
      "cell_type": "markdown",
      "metadata": {
        "id": "SycrEFpKwlSu"
      },
      "source": [
        "Es alfanumerica ?"
      ]
    },
    {
      "cell_type": "code",
      "metadata": {
        "colab": {
          "base_uri": "https://localhost:8080/"
        },
        "id": "Nu6J_nvwwb2e",
        "outputId": "e595cdc0-3eae-4048-b752-58acbbb28818"
      },
      "source": [
        "cadena.isalnum()"
      ],
      "execution_count": 16,
      "outputs": [
        {
          "output_type": "execute_result",
          "data": {
            "text/plain": [
              "True"
            ]
          },
          "metadata": {},
          "execution_count": 16
        }
      ]
    },
    {
      "cell_type": "code",
      "metadata": {
        "colab": {
          "base_uri": "https://localhost:8080/"
        },
        "id": "W4ifI-bewp3V",
        "outputId": "88e62792-897a-416b-a380-0b0f0869f507"
      },
      "source": [
        "cadena = \"#-+*\"\n",
        "cadena.isalnum()"
      ],
      "execution_count": 17,
      "outputs": [
        {
          "output_type": "execute_result",
          "data": {
            "text/plain": [
              "False"
            ]
          },
          "metadata": {},
          "execution_count": 17
        }
      ]
    },
    {
      "cell_type": "markdown",
      "metadata": {
        "id": "5VkSJhbkxpaZ"
      },
      "source": [
        "Es titulo?"
      ]
    },
    {
      "cell_type": "code",
      "metadata": {
        "colab": {
          "base_uri": "https://localhost:8080/"
        },
        "id": "BMdQHIglxivG",
        "outputId": "6bb6cb67-5c19-4b13-ab1b-bbd5d13acb5a"
      },
      "source": [
        "cadena = \"Titulo 1\"\n",
        "cadena.istitle()"
      ],
      "execution_count": 23,
      "outputs": [
        {
          "output_type": "execute_result",
          "data": {
            "text/plain": [
              "True"
            ]
          },
          "metadata": {},
          "execution_count": 23
        }
      ]
    },
    {
      "cell_type": "code",
      "metadata": {
        "colab": {
          "base_uri": "https://localhost:8080/"
        },
        "id": "S4yIIssoyEWW",
        "outputId": "e434960f-44bb-48d4-fb9c-1d3687a9cf0c"
      },
      "source": [
        "cadena = \"esto no es titulo\"\n",
        "cadena.istitle()"
      ],
      "execution_count": 26,
      "outputs": [
        {
          "output_type": "execute_result",
          "data": {
            "text/plain": [
              "False"
            ]
          },
          "metadata": {},
          "execution_count": 26
        }
      ]
    },
    {
      "cell_type": "code",
      "metadata": {
        "id": "fYCAQL6uyatC"
      },
      "source": [
        ""
      ],
      "execution_count": null,
      "outputs": []
    }
  ]
}